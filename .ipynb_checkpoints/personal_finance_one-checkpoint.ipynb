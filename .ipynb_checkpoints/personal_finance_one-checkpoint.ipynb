{
 "cells": [
  {
   "cell_type": "markdown",
   "metadata": {
    "pycharm": {
     "name": "#%% md\n"
    }
   },
   "source": [
    "Introduction & Exchange Rates"
   ]
  },
  {
   "cell_type": "code",
   "execution_count": null,
   "metadata": {
    "pycharm": {
     "name": "#%%\n"
    }
   },
   "outputs": [],
   "source": [
    "import math\n",
    "import os\n",
    "import pandas as pd\n",
    "import numpy as np\n",
    "from scipy.optimize import newton\n",
    "\n",
    "from dotenv import load_dotenv, find_dotenv\n"
   ]
  },
  {
   "cell_type": "code",
   "execution_count": null,
   "metadata": {
    "pycharm": {
     "name": "#%%\n"
    }
   },
   "outputs": [],
   "source": [
    "df = pd.read_excel('data/xirr.xlsx', engine='openpyxl')\n",
    "df"
   ]
  },
  {
   "cell_type": "code",
   "execution_count": null,
   "metadata": {
    "pycharm": {
     "name": "#%%\n"
    }
   },
   "outputs": [],
   "source": [
    "df['total'] = df.income + df.expenses\n",
    "df"
   ]
  },
  {
   "cell_type": "code",
   "execution_count": null,
   "metadata": {
    "pycharm": {
     "name": "#%%\n"
    }
   },
   "outputs": [],
   "source": [
    "def xnpv(rate, values, dates):\n",
    "    min_date = min(dates)\n",
    "\n",
    "    return sum([\n",
    "        value / (1 + rate) ** ((date - min_date).days / 365) for value, date in zip(values, dates)\n",
    "    ])\n",
    "\n",
    "def xirr(values, dates):\n",
    "    return newton(lambda r: xnpv(r, values, dates), 0)\n",
    "\n",
    "print(xirr(df.total.dropna(), df.date.dropna()))"
   ]
  },
  {
   "cell_type": "code",
   "execution_count": null,
   "metadata": {
    "pycharm": {
     "name": "#%%\n"
    }
   },
   "outputs": [],
   "source": [
    "load_dotenv(find_dotenv())\n",
    "API_KEY = os.environ.get('OPX_KEY')\n",
    "\n",
    "print(API_KEY)"
   ]
  },
  {
   "cell_type": "code",
   "execution_count": null,
   "metadata": {
    "pycharm": {
     "name": "#%%\n"
    }
   },
   "outputs": [],
   "source": [
    "import requests\n",
    "\n",
    "API_KEY = os.environ.get('OPX_KEY')\n",
    "\n",
    "r = requests.get(\n",
    "    'https://openexchangerates.org/api/latest.json',\n",
    "    params = {\n",
    "        'app_id': API_KEY,\n",
    "        'symbols': 'CAD,USD',\n",
    "        'show_alternative': 'true'\n",
    "    }\n",
    ")\n",
    "rates_ = r.json()['rates']\n",
    "rates_"
   ]
  },
  {
   "cell_type": "code",
   "execution_count": null,
   "metadata": {
    "pycharm": {
     "name": "#%%\n"
    }
   },
   "outputs": [],
   "source": [
    "symbol_from = 'CAD'\n",
    "symbol_to = 'USD'\n",
    "value = 3000\n",
    "\n",
    "value * 1/rates_.get(symbol_to) * rates_.get(symbol_from)\n"
   ]
  },
  {
   "cell_type": "code",
   "execution_count": null,
   "metadata": {
    "pycharm": {
     "name": "#%%\n"
    }
   },
   "outputs": [],
   "source": [
    "class CurrencyConverter:\n",
    "    def __init__(self, symbols, API_KEY):\n",
    "        self.API_KEY = API_KEY\n",
    "        self.symbols = symbols\n",
    "        self._symbols = ','.join([str(s) for s in symbols])\n",
    "\n",
    "        r = requests.get(\n",
    "            'https://openexchangerates.org/api/latest.json',\n",
    "            params = {\n",
    "                'app_id': self.API_KEY,\n",
    "                'symbols': self._symbols,\n",
    "                'show_alternative': 'true'\n",
    "            }\n",
    "        )\n",
    "\n",
    "        self.rates_ = r.json()['rates']\n",
    "        self.rates_['USD'] = 1\n",
    "\n",
    "    def convert(self, value, symbol_from, symbol_to, round_output = True):\n",
    "        try:\n",
    "            x = (value\n",
    "                 * 1/self.rates_.get(symbol_from)\n",
    "                 * self.rates_.get(symbol_to))\n",
    "            if round_output:\n",
    "                return round(x,2)\n",
    "            else:\n",
    "                return x\n",
    "        except TypeError:\n",
    "            print('Unavailable or Invalid Symbol')\n",
    "            return None"
   ]
  },
  {
   "cell_type": "code",
   "execution_count": null,
   "metadata": {
    "pycharm": {
     "name": "#%%\n"
    }
   },
   "outputs": [],
   "source": [
    "c = CurrencyConverter(['CAD', 'USD', 'DOGE', 'ETH', 'BTC'], API_KEY)\n",
    "\n",
    "print(c.convert(3000, 'CAD', 'DOGE'))\n",
    "print(c.convert(5000, 'USD', 'CAD'))\n",
    "\n",
    "c.rates_"
   ]
  },
  {
   "cell_type": "code",
   "execution_count": null,
   "metadata": {
    "pycharm": {
     "name": "#%%\n"
    }
   },
   "outputs": [],
   "source": [
    "df = pd.read_excel('data/xirr.xlsx', engine='openpyxl', sheet_name=\"irregular\")\n",
    "df['total'] = df.income + df.expenses\n",
    "df['total'].apply(lambda x: c.convert(x, 'CAD', 'DOGE'))\n",
    "\n",
    "df.dropna()"
   ]
  },
  {
   "cell_type": "markdown",
   "metadata": {},
   "source": [
    "Debt & Amoritization"
   ]
  },
  {
   "cell_type": "code",
   "execution_count": null,
   "metadata": {
    "pycharm": {
     "name": "#%%\n"
    }
   },
   "outputs": [],
   "source": [
    "import numpy as np\n"
   ]
  },
  {
   "cell_type": "code",
   "execution_count": null,
   "metadata": {
    "pycharm": {
     "name": "#%%\n"
    }
   },
   "outputs": [],
   "source": [
    "loan = 3000\n",
    "rate = 0.0575\n",
    "term = 14\n",
    "balance = loan\n",
    "\n",
    "df = pd.DataFrame({\n",
    "    'month': [0],\n",
    "    'payment': [np.NaN],\n",
    "    'interest': [np.NaN],\n",
    "    'principal': [np.NaN],\n",
    "    'balance': [balance]\n",
    "})\n",
    "\n",
    "payment = np.round(-np.pmt(rate/12, term, loan), 2)\n",
    "print(payment)\n",
    "\n",
    "for i in range(1, term + 1):\n",
    "    interest = round(rate/12 * balance, 2)\n",
    "    principal = payment - interest\n",
    "    balance = balance - principal\n",
    "    df = df.append(\n",
    "        pd.DataFrame({\n",
    "            'month': [i],\n",
    "            'payment': [payment],\n",
    "            'interest': [interest],\n",
    "            'principal': [principal],\n",
    "            'balance': [balance]\n",
    "        })\n",
    "    )\n",
    "\n",
    "df = df.reset_index(drop=True)\n",
    "df[['month', 'payment', 'interest', 'principal', 'balance']]"
   ]
  },
  {
   "cell_type": "code",
   "execution_count": null,
   "metadata": {
    "pycharm": {
     "name": "#%%\n"
    }
   },
   "outputs": [],
   "source": [
    "loan = 3000\n",
    "rate = 0.0575\n",
    "term = 14\n",
    "balance = loan\n",
    "payment = np.round(-np.pmt(rate/12, term, loan), 2)\n",
    "\n",
    "index = range(0, term+1)\n",
    "columns = ['month', 'payment', 'interest', 'principal', 'balance']\n",
    "df = pd.DataFrame(index=index, columns=columns)\n",
    "\n",
    "df.iloc[0]['month']=0\n",
    "df.iloc[0]['balance']=balance\n",
    "\n",
    "for i in range(1,term+1):\n",
    "    interest = round(rate/12 * balance, 2)\n",
    "    principal = payment - interest\n",
    "    balance = balance - principal\n",
    "\n",
    "    df.iloc[i]['month']=i\n",
    "    df.iloc[i]['payment']=payment\n",
    "    df.iloc[i]['interest']=interest\n",
    "    df.iloc[i]['principal']=principal\n",
    "    df.iloc[i]['balance']=balance\n",
    "df"
   ]
  },
  {
   "cell_type": "code",
   "execution_count": null,
   "metadata": {
    "pycharm": {
     "name": "#%%\n"
    }
   },
   "outputs": [],
   "source": [
    "def am(loan, rate, term):\n",
    "    payment = np.round(-np.pmt(rate/12, term, loan), 2)\n",
    "    balance = loan\n",
    "    index = range(0, term+1)\n",
    "    columns = ['month', 'payment', 'interest', 'principal', 'balance']\n",
    "    df = pd.DataFrame(index=index, columns=columns)\n",
    "\n",
    "    df.iloc[0]['month']=0\n",
    "    df.iloc[0]['balance']=balance\n",
    "\n",
    "    for i in range(1,term+1):\n",
    "        interest = round(rate/12 * balance, 2)\n",
    "        principal = payment - interest\n",
    "        balance = balance - principal\n",
    "\n",
    "        df.iloc[i]['month']=i\n",
    "        df.iloc[i]['payment']=payment\n",
    "        df.iloc[i]['interest']=interest\n",
    "        df.iloc[i]['principal']=principal\n",
    "        df.iloc[i]['balance']=balance\n",
    "\n",
    "    return df"
   ]
  },
  {
   "cell_type": "code",
   "execution_count": null,
   "metadata": {
    "pycharm": {
     "name": "#%%\n"
    }
   },
   "outputs": [],
   "source": [
    "loan = 3000\n",
    "\n",
    "pineapple = am(loan,0.0575, 14)\n",
    "orange = am(loan,0.0399,20)\n",
    "banana = am(loan, 0.0889,8)\n",
    "\n",
    "print(banana['interest'].sum())\n",
    "print(orange['interest'].sum())\n",
    "print(pineapple['interest'].sum())"
   ]
  },
  {
   "cell_type": "code",
   "execution_count": null,
   "metadata": {
    "pycharm": {
     "name": "#%%\n"
    }
   },
   "outputs": [],
   "source": [
    "import datetime\n",
    "\n",
    "date_1 = datetime.datetime.now()\n",
    "print(date_1)\n",
    "print(date_1.__repr__())\n",
    "print(type(date_1))\n",
    "\n",
    "date_2 = datetime.datetime.today()\n",
    "print(date_2)\n",
    "print(date_2.__repr__())\n",
    "print(type(date_2))"
   ]
  },
  {
   "cell_type": "code",
   "execution_count": null,
   "metadata": {
    "pycharm": {
     "name": "#%%\n"
    }
   },
   "outputs": [],
   "source": [
    "import pandas as pd\n",
    "#print(pd.Timestamp(date_1).normalize())\n",
    "#print(pd.Timestamp(date_1))\n",
    "\n",
    "TODAY = pd.Timestamp('today').normalize()\n",
    "END = TODAY + datetime.timedelta(days=365)\n",
    "\n",
    "calendar = pd.DataFrame(index=pd.date_range(start=TODAY, end=END))\n",
    "\n",
    "#semi-monthly\n",
    "sm = pd.date_range(start=TODAY, end=END, freq='SM')\n",
    "\n",
    "#monthly\n",
    "ms = pd.date_range(start=TODAY, end=END, freq='MS')\n",
    "\n",
    "#build cash flows\n",
    "income = pd.DataFrame(\n",
    "    data={'income': 1000},\n",
    "    index=pd.date_range(start=TODAY, end=END, freq='SM')\n",
    ")\n",
    "\n",
    "rent = pd.DataFrame(\n",
    "    data={'rent': -1500},\n",
    "    index=pd.date_range(start=TODAY, end=END, freq='MS')\n",
    ")\n",
    "#add a starting balance\n",
    "bank = pd.DataFrame(\n",
    "    data={'bank': 2000},\n",
    "    index=pd.date_range(start=TODAY, end=TODAY)\n",
    ")\n",
    "\n",
    "#stich calendar together (only works with normalized time stamps)\n",
    "calendar = pd.concat([calendar, income], axis=1).fillna(0)\n",
    "calendar = pd.concat([calendar, rent], axis=1).fillna(0)\n",
    "calendar = pd.concat([calendar,bank], axis=1).fillna(0)\n",
    "\n",
    "#check specific parts of the calendar\n",
    "def index_calendar(start, end):\n",
    "    return calendar.loc[\n",
    "        (calendar.index >= start) &\n",
    "        (calendar.index <= end)\n",
    "]\n",
    "\n",
    "#print(index_calendar('2021-1-30', '2021-2-5'))\n",
    "\n",
    "#totals\n",
    "calendar['total'] = calendar.sum(axis=1)\n",
    "calendar['cum_total']=calendar['total'].cumsum()\n",
    "calendar.head(10)\n"
   ]
  },
  {
   "cell_type": "code",
   "execution_count": null,
   "metadata": {
    "pycharm": {
     "name": "#%%\n"
    }
   },
   "outputs": [],
   "source": [
    "from matplotlib import pyplot as plt\n",
    "\n",
    "%matplotlib inline\n",
    "plt.figure(figsize=(10,5))\n",
    "plt.plot(calendar.index, calendar.total, label='Daily Total')\n",
    "plt.plot(calendar.index, calendar.cum_total, label='Cumulative Total')\n",
    "plt.legend()"
   ]
  },
  {
   "cell_type": "code",
   "execution_count": null,
   "metadata": {
    "pycharm": {
     "name": "#%%\n"
    }
   },
   "outputs": [],
   "source": [
    "def update_totals(df):\n",
    "    if df.columns.isin(['totals', 'cum_total']).any():\n",
    "        df['total']=0\n",
    "        df['cum_total']=0\n",
    "    df['total']=df.sum(axis=1)\n",
    "    df['cum_total'] = df['total'].cumsum()\n",
    "    return df\n",
    "\n",
    "calendar = update_totals(calendar)\n",
    "calendar.tail(1)"
   ]
  },
  {
   "cell_type": "code",
   "execution_count": null,
   "metadata": {
    "pycharm": {
     "name": "#%%\n"
    }
   },
   "outputs": [],
   "source": [
    "def plot_budget(df):\n",
    "    plt.figure(figsize=(10,5))\n",
    "    plt.plot(calendar.index, calendar.total, label='Daily Total')\n",
    "    plt.plot(calendar.index, calendar.cum_total, label='Cumulative Total')\n",
    "    plt.legend()\n",
    "\n",
    "plot_budget(calendar)\n"
   ]
  },
  {
   "cell_type": "code",
   "execution_count": null,
   "metadata": {
    "pycharm": {
     "name": "#%%\n"
    }
   },
   "outputs": [],
   "source": [
    "vacation = pd.DataFrame(\n",
    "    data={'vacation': -2500},\n",
    "    index=[pd.Timestamp('2021-07-01').normalize()]\n",
    ")\n",
    "\n",
    "calendar = pd.concat([calendar,vacation], axis=1).fillna(0)\n",
    "calendar = update_totals(calendar)\n",
    "plot_budget(calendar)\n",
    "\n",
    "calendar = calendar.drop('vacation', axis=1)"
   ]
  },
  {
   "cell_type": "code",
   "execution_count": null,
   "metadata": {
    "pycharm": {
     "name": "#%%\n"
    }
   },
   "outputs": [],
   "source": [
    "import yaml\n",
    "\n",
    "budget = yaml.load('''\n",
    "bank:\n",
    "    frequency: today\n",
    "    amount: 2000\n",
    "income:\n",
    "    frequency: every 2 weeks on Friday\n",
    "    amount: 1000\n",
    "rent:\n",
    "    frequency: every month\n",
    "    amount: -1500\n",
    "fun:\n",
    "    frequency: every week on Friday and Saturday\n",
    "    amount: -40\n",
    "''')\n",
    "\n",
    "budget\n",
    "\n",
    "calendar = pd.DataFrame(index=pd.date_range(start=TODAY, end=END))\n",
    "\n",
    "for k,v in budget.items():\n",
    "    frequency=v.get('frequency')\n",
    "    amount = v.get('amount')\n",
    "    dates = get_dates(frequency)\n",
    "    i = pd.DataFrame(\n",
    "        data ={k:amount},\n",
    "        index=pd.DatetimeIndex(pd.Series(dates))\n",
    "    )\n",
    "    calendar = pd.concat([calendar, i], axis=1).fillna(0)\n",
    "\n",
    "calendar['total']=calendar.sum(axis=1)\n",
    "calendar['cum_total']=calendar['total'].cumsum()\n",
    "plot_budget(calendar)"
   ]
  },
  {
   "cell_type": "code",
   "execution_count": 4,
   "metadata": {
    "pycharm": {
     "name": "#%%\n"
    }
   },
   "outputs": [
    {
     "data": {
      "text/html": [
       "<div>\n",
       "<style scoped>\n",
       "    .dataframe tbody tr th:only-of-type {\n",
       "        vertical-align: middle;\n",
       "    }\n",
       "\n",
       "    .dataframe tbody tr th {\n",
       "        vertical-align: top;\n",
       "    }\n",
       "\n",
       "    .dataframe thead th {\n",
       "        text-align: right;\n",
       "    }\n",
       "</style>\n",
       "<table border=\"1\" class=\"dataframe\">\n",
       "  <thead>\n",
       "    <tr style=\"text-align: right;\">\n",
       "      <th></th>\n",
       "      <th>date</th>\n",
       "      <th>price</th>\n",
       "      <th>target</th>\n",
       "      <th>allocation</th>\n",
       "      <th>shares</th>\n",
       "      <th>market_value</th>\n",
       "    </tr>\n",
       "  </thead>\n",
       "  <tbody>\n",
       "    <tr>\n",
       "      <th>AMZN</th>\n",
       "      <td>2018-01-01</td>\n",
       "      <td>NaN</td>\n",
       "      <td>0.4</td>\n",
       "      <td>0</td>\n",
       "      <td>0</td>\n",
       "      <td>0</td>\n",
       "    </tr>\n",
       "    <tr>\n",
       "      <th>CSCO</th>\n",
       "      <td>2018-01-01</td>\n",
       "      <td>NaN</td>\n",
       "      <td>0.3</td>\n",
       "      <td>0</td>\n",
       "      <td>0</td>\n",
       "      <td>0</td>\n",
       "    </tr>\n",
       "    <tr>\n",
       "      <th>GE</th>\n",
       "      <td>2018-01-01</td>\n",
       "      <td>NaN</td>\n",
       "      <td>0.3</td>\n",
       "      <td>0</td>\n",
       "      <td>0</td>\n",
       "      <td>0</td>\n",
       "    </tr>\n",
       "    <tr>\n",
       "      <th>CASH</th>\n",
       "      <td>2018-01-01</td>\n",
       "      <td>1.0</td>\n",
       "      <td>0.0</td>\n",
       "      <td>1</td>\n",
       "      <td>10000</td>\n",
       "      <td>10000</td>\n",
       "    </tr>\n",
       "  </tbody>\n",
       "</table>\n",
       "</div>"
      ],
      "text/plain": [
       "            date  price  target  allocation  shares  market_value\n",
       "AMZN  2018-01-01    NaN     0.4           0       0             0\n",
       "CSCO  2018-01-01    NaN     0.3           0       0             0\n",
       "GE    2018-01-01    NaN     0.3           0       0             0\n",
       "CASH  2018-01-01    1.0     0.0           1   10000         10000"
      ]
     },
     "execution_count": 4,
     "metadata": {},
     "output_type": "execute_result"
    }
   ],
   "source": [
    "targets = {\n",
    "    'AMZN': 0.4,\n",
    "    'CSCO': 0.3,\n",
    "    'GE': 0.3\n",
    "}\n",
    "\n",
    "import pandas as pd\n",
    "import numpy as np\n",
    "\n",
    "portfolio = pd.DataFrame(\n",
    "    index=list(targets.keys())+ ['CASH'],\n",
    "    data={\n",
    "        'date': '2018-01-01',\n",
    "        'price': [np.NaN, np.NaN, np.NaN, 1],\n",
    "        'target': [0.4,0.3,0.3,0],\n",
    "        'allocation':[0,0,0,1],\n",
    "        'shares': [0,0,0,10000],\n",
    "        'market_value':[0,0,0,10000]\n",
    "    }\n",
    ")\n",
    "portfolio"
   ]
  },
  {
   "cell_type": "code",
   "execution_count": 7,
   "metadata": {},
   "outputs": [],
   "source": [
    "def instantiate_portfolio(targets, starting_balance):\n",
    "    targets['CASH'] = 0\n",
    "    tickers = list(targets.keys())\n",
    "    \n",
    "    df = pd.DataFrame(\n",
    "        index=tickers,\n",
    "        columns=[\n",
    "            'date', 'price', 'target','allocation','shares', 'market_value'\n",
    "        ]\n",
    "    )\n",
    "    df.shares = 0\n",
    "    df.market_value = 0\n",
    "    df.allocation = 0\n",
    "    df.update(\n",
    "        pd.DataFrame\n",
    "            .from_dict(targets, orient='index')\n",
    "            .rename(columns={0:'target'})\n",
    "    )\n",
    "    df.at['CASH', 'shares'] = starting_balance\n",
    "    \n",
    "    return df"
   ]
  },
  {
   "cell_type": "code",
   "execution_count": 10,
   "metadata": {},
   "outputs": [
    {
     "data": {
      "text/html": [
       "<div>\n",
       "<style scoped>\n",
       "    .dataframe tbody tr th:only-of-type {\n",
       "        vertical-align: middle;\n",
       "    }\n",
       "\n",
       "    .dataframe tbody tr th {\n",
       "        vertical-align: top;\n",
       "    }\n",
       "\n",
       "    .dataframe thead th {\n",
       "        text-align: right;\n",
       "    }\n",
       "</style>\n",
       "<table border=\"1\" class=\"dataframe\">\n",
       "  <thead>\n",
       "    <tr style=\"text-align: right;\">\n",
       "      <th></th>\n",
       "      <th>date</th>\n",
       "      <th>price</th>\n",
       "      <th>target</th>\n",
       "      <th>allocation</th>\n",
       "      <th>shares</th>\n",
       "      <th>market_value</th>\n",
       "    </tr>\n",
       "  </thead>\n",
       "  <tbody>\n",
       "    <tr>\n",
       "      <th>AMZN</th>\n",
       "      <td>NaN</td>\n",
       "      <td>NaN</td>\n",
       "      <td>0.4</td>\n",
       "      <td>0</td>\n",
       "      <td>0</td>\n",
       "      <td>0</td>\n",
       "    </tr>\n",
       "    <tr>\n",
       "      <th>CSCO</th>\n",
       "      <td>NaN</td>\n",
       "      <td>NaN</td>\n",
       "      <td>0.3</td>\n",
       "      <td>0</td>\n",
       "      <td>0</td>\n",
       "      <td>0</td>\n",
       "    </tr>\n",
       "    <tr>\n",
       "      <th>GE</th>\n",
       "      <td>NaN</td>\n",
       "      <td>NaN</td>\n",
       "      <td>0.3</td>\n",
       "      <td>0</td>\n",
       "      <td>0</td>\n",
       "      <td>0</td>\n",
       "    </tr>\n",
       "    <tr>\n",
       "      <th>CASH</th>\n",
       "      <td>NaN</td>\n",
       "      <td>NaN</td>\n",
       "      <td>0</td>\n",
       "      <td>0</td>\n",
       "      <td>20000</td>\n",
       "      <td>0</td>\n",
       "    </tr>\n",
       "  </tbody>\n",
       "</table>\n",
       "</div>"
      ],
      "text/plain": [
       "     date price target  allocation  shares  market_value\n",
       "AMZN  NaN   NaN    0.4           0       0             0\n",
       "CSCO  NaN   NaN    0.3           0       0             0\n",
       "GE    NaN   NaN    0.3           0       0             0\n",
       "CASH  NaN   NaN      0           0   20000             0"
      ]
     },
     "execution_count": 10,
     "metadata": {},
     "output_type": "execute_result"
    }
   ],
   "source": [
    "portfolio = instantiate_portfolio({\n",
    "    'AMZN': 0.4, 'CSCO': 0.3, 'GE': 0.3},\n",
    "    20000\n",
    ")\n",
    "\n",
    "portfolio"
   ]
  },
  {
   "cell_type": "code",
   "execution_count": null,
   "metadata": {},
   "outputs": [],
   "source": []
  }
 ],
 "metadata": {
  "kernel_info": {
   "name": "python3"
  },
  "kernelspec": {
   "display_name": "Python 3",
   "language": "python",
   "name": "python3"
  },
  "language_info": {
   "codemirror_mode": {
    "name": "ipython",
    "version": 3
   },
   "file_extension": ".py",
   "mimetype": "text/x-python",
   "name": "python",
   "nbconvert_exporter": "python",
   "pygments_lexer": "ipython3",
   "version": "3.8.5"
  },
  "nteract": {
   "version": "0.27.0"
  }
 },
 "nbformat": 4,
 "nbformat_minor": 1
}
