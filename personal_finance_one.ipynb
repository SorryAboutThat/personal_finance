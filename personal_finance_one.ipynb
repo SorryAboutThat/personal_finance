{
 "cells": [
  {
   "cell_type": "markdown",
   "source": [
    "Introduction & Exchange Rates"
   ],
   "metadata": {
    "collapsed": false,
    "pycharm": {
     "name": "#%% md\n"
    }
   }
  },
  {
   "cell_type": "code",
   "execution_count": null,
   "outputs": [],
   "source": [
    "import math\n",
    "import os\n",
    "import pandas as pd\n",
    "import numpy as np\n",
    "from scipy.optimize import newton\n",
    "\n",
    "from dotenv import load_dotenv, find_dotenv\n"
   ],
   "metadata": {
    "collapsed": false,
    "pycharm": {
     "name": "#%%\n"
    }
   }
  },
  {
   "cell_type": "code",
   "execution_count": null,
   "outputs": [],
   "source": [
    "df = pd.read_excel('data/xirr.xlsx', engine='openpyxl')\n",
    "df"
   ],
   "metadata": {
    "collapsed": false,
    "pycharm": {
     "name": "#%%\n"
    }
   }
  },
  {
   "cell_type": "code",
   "execution_count": null,
   "outputs": [],
   "source": [
    "df['total'] = df.income + df.expenses\n",
    "df"
   ],
   "metadata": {
    "collapsed": false,
    "pycharm": {
     "name": "#%%\n"
    }
   }
  },
  {
   "cell_type": "code",
   "execution_count": null,
   "outputs": [],
   "source": [
    "def xnpv(rate, values, dates):\n",
    "    min_date = min(dates)\n",
    "\n",
    "    return sum([\n",
    "        value / (1 + rate) ** ((date - min_date).days / 365) for value, date in zip(values, dates)\n",
    "    ])\n",
    "\n",
    "def xirr(values, dates):\n",
    "    return newton(lambda r: xnpv(r, values, dates), 0)\n",
    "\n",
    "print(xirr(df.total.dropna(), df.date.dropna()))"
   ],
   "metadata": {
    "collapsed": false,
    "pycharm": {
     "name": "#%%\n"
    }
   }
  },
  {
   "cell_type": "code",
   "execution_count": null,
   "outputs": [],
   "source": [
    "load_dotenv(find_dotenv())\n",
    "API_KEY = os.environ.get('OPX_KEY')\n",
    "\n",
    "print(API_KEY)"
   ],
   "metadata": {
    "collapsed": false,
    "pycharm": {
     "name": "#%%\n"
    }
   }
  },
  {
   "cell_type": "code",
   "execution_count": null,
   "outputs": [],
   "source": [
    "import requests\n",
    "\n",
    "API_KEY = os.environ.get('OPX_KEY')\n",
    "\n",
    "r = requests.get(\n",
    "    'https://openexchangerates.org/api/latest.json',\n",
    "    params = {\n",
    "        'app_id': API_KEY,\n",
    "        'symbols': 'CAD,USD',\n",
    "        'show_alternative': 'true'\n",
    "    }\n",
    ")\n",
    "rates_ = r.json()['rates']\n",
    "rates_"
   ],
   "metadata": {
    "collapsed": false,
    "pycharm": {
     "name": "#%%\n"
    }
   }
  },
  {
   "cell_type": "code",
   "execution_count": null,
   "outputs": [],
   "source": [
    "symbol_from = 'CAD'\n",
    "symbol_to = 'USD'\n",
    "value = 3000\n",
    "\n",
    "value * 1/rates_.get(symbol_to) * rates_.get(symbol_from)\n"
   ],
   "metadata": {
    "collapsed": false,
    "pycharm": {
     "name": "#%%\n"
    }
   }
  },
  {
   "cell_type": "code",
   "source": [
    "class CurrencyConverter:\n",
    "    def __init__(self, symbols, API_KEY):\n",
    "        self.API_KEY = API_KEY\n",
    "        self.symbols = symbols\n",
    "        self._symbols = ','.join([str(s) for s in symbols])\n",
    "\n",
    "        r = requests.get(\n",
    "            'https://openexchangerates.org/api/latest.json',\n",
    "            params = {\n",
    "                'app_id': self.API_KEY,\n",
    "                'symbols': self._symbols,\n",
    "                'show_alternative': 'true'\n",
    "            }\n",
    "        )\n",
    "\n",
    "        self.rates_ = r.json()['rates']\n",
    "        self.rates_['USD'] = 1\n",
    "\n",
    "    def convert(self, value, symbol_from, symbol_to, round_output = True):\n",
    "        try:\n",
    "            x = (value\n",
    "                 * 1/self.rates_.get(symbol_from)\n",
    "                 * self.rates_.get(symbol_to))\n",
    "            if round_output:\n",
    "                return round(x,2)\n",
    "            else:\n",
    "                return x\n",
    "        except TypeError:\n",
    "            print('Unavailable or Invalid Symbol')\n",
    "            return None"
   ],
   "metadata": {
    "collapsed": false,
    "pycharm": {
     "name": "#%%\n"
    }
   },
   "execution_count": null,
   "outputs": []
  },
  {
   "cell_type": "code",
   "execution_count": null,
   "outputs": [],
   "source": [
    "c = CurrencyConverter(['CAD', 'USD', 'DOGE', 'ETH', 'BTC'], API_KEY)\n",
    "\n",
    "print(c.convert(3000, 'CAD', 'DOGE'))\n",
    "print(c.convert(5000, 'USD', 'CAD'))\n",
    "\n",
    "c.rates_"
   ],
   "metadata": {
    "collapsed": false,
    "pycharm": {
     "name": "#%%\n"
    }
   }
  },
  {
   "cell_type": "code",
   "execution_count": null,
   "outputs": [],
   "source": [
    "df = pd.read_excel('data/xirr.xlsx', engine='openpyxl', sheet_name=\"irregular\")\n",
    "df['total'] = df.income + df.expenses\n",
    "df['total'].apply(lambda x: c.convert(x, 'CAD', 'DOGE'))\n",
    "\n",
    "df.dropna()"
   ],
   "metadata": {
    "collapsed": false,
    "pycharm": {
     "name": "#%%\n"
    }
   }
  },
  {
   "cell_type": "markdown",
   "source": [
    "Debt & Amoritization"
   ],
   "metadata": {
    "collapsed": false
   }
  },
  {
   "cell_type": "code",
   "execution_count": null,
   "outputs": [],
   "source": [
    "import numpy as np\n"
   ],
   "metadata": {
    "collapsed": false,
    "pycharm": {
     "name": "#%%\n"
    }
   }
  },
  {
   "cell_type": "code",
   "execution_count": null,
   "outputs": [],
   "source": [
    "loan = 3000\n",
    "rate = 0.0575\n",
    "term = 14\n",
    "balance = loan\n",
    "\n",
    "df = pd.DataFrame({\n",
    "    'month': [0],\n",
    "    'payment': [np.NaN],\n",
    "    'interest': [np.NaN],\n",
    "    'principal': [np.NaN],\n",
    "    'balance': [balance]\n",
    "})\n",
    "\n",
    "payment = np.round(-np.pmt(rate/12, term, loan), 2)\n",
    "print(payment)\n",
    "\n",
    "for i in range(1, term + 1):\n",
    "    interest = round(rate/12 * balance, 2)\n",
    "    principal = payment - interest\n",
    "    balance = balance - principal\n",
    "    df = df.append(\n",
    "        pd.DataFrame({\n",
    "            'month': [i],\n",
    "            'payment': [payment],\n",
    "            'interest': [interest],\n",
    "            'principal': [principal],\n",
    "            'balance': [balance]\n",
    "        })\n",
    "    )\n",
    "\n",
    "df = df.reset_index(drop=True)\n",
    "df[['month', 'payment', 'interest', 'principal', 'balance']]"
   ],
   "metadata": {
    "collapsed": false,
    "pycharm": {
     "name": "#%%\n"
    }
   }
  },
  {
   "cell_type": "code",
   "execution_count": null,
   "outputs": [],
   "source": [
    "loan = 3000\n",
    "rate = 0.0575\n",
    "term = 14\n",
    "balance = loan\n",
    "payment = np.round(-np.pmt(rate/12, term, loan), 2)\n",
    "\n",
    "index = range(0, term+1)\n",
    "columns = ['month', 'payment', 'interest', 'principal', 'balance']\n",
    "df = pd.DataFrame(index=index, columns=columns)\n",
    "\n",
    "df.iloc[0]['month']=0\n",
    "df.iloc[0]['balance']=balance\n",
    "\n",
    "for i in range(1,term+1):\n",
    "    interest = round(rate/12 * balance, 2)\n",
    "    principal = payment - interest\n",
    "    balance = balance - principal\n",
    "\n",
    "    df.iloc[i]['month']=i\n",
    "    df.iloc[i]['payment']=payment\n",
    "    df.iloc[i]['interest']=interest\n",
    "    df.iloc[i]['principal']=principal\n",
    "    df.iloc[i]['balance']=balance\n",
    "df"
   ],
   "metadata": {
    "collapsed": false,
    "pycharm": {
     "name": "#%%\n"
    }
   }
  },
  {
   "cell_type": "code",
   "execution_count": null,
   "outputs": [],
   "source": [
    "def am(loan, rate, term):\n",
    "    payment = np.round(-np.pmt(rate/12, term, loan), 2)\n",
    "    balance = loan\n",
    "    index = range(0, term+1)\n",
    "    columns = ['month', 'payment', 'interest', 'principal', 'balance']\n",
    "    df = pd.DataFrame(index=index, columns=columns)\n",
    "\n",
    "    df.iloc[0]['month']=0\n",
    "    df.iloc[0]['balance']=balance\n",
    "\n",
    "    for i in range(1,term+1):\n",
    "        interest = round(rate/12 * balance, 2)\n",
    "        principal = payment - interest\n",
    "        balance = balance - principal\n",
    "\n",
    "        df.iloc[i]['month']=i\n",
    "        df.iloc[i]['payment']=payment\n",
    "        df.iloc[i]['interest']=interest\n",
    "        df.iloc[i]['principal']=principal\n",
    "        df.iloc[i]['balance']=balance\n",
    "\n",
    "    return df"
   ],
   "metadata": {
    "collapsed": false,
    "pycharm": {
     "name": "#%%\n"
    }
   }
  },
  {
   "cell_type": "code",
   "execution_count": null,
   "outputs": [],
   "source": [
    "loan = 3000\n",
    "\n",
    "pineapple = am(loan,0.0575, 14)\n",
    "orange = am(loan,0.0399,20)\n",
    "banana = am(loan, 0.0889,8)\n",
    "\n",
    "print(banana['interest'].sum())\n",
    "print(orange['interest'].sum())\n",
    "print(pineapple['interest'].sum())"
   ],
   "metadata": {
    "collapsed": false,
    "pycharm": {
     "name": "#%%\n"
    }
   }
  },
  {
   "cell_type": "code",
   "execution_count": null,
   "outputs": [],
   "source": [
    "import datetime\n",
    "\n",
    "date_1 = datetime.datetime.now()\n",
    "print(date_1)\n",
    "print(date_1.__repr__())\n",
    "print(type(date_1))\n",
    "\n",
    "date_2 = datetime.datetime.today()\n",
    "print(date_2)\n",
    "print(date_2.__repr__())\n",
    "print(type(date_2))"
   ],
   "metadata": {
    "collapsed": false,
    "pycharm": {
     "name": "#%%\n"
    }
   }
  },
  {
   "cell_type": "code",
   "execution_count": null,
   "outputs": [],
   "source": [
    "import pandas as pd\n",
    "#print(pd.Timestamp(date_1).normalize())\n",
    "#print(pd.Timestamp(date_1))\n",
    "\n",
    "TODAY = pd.Timestamp('today').normalize()\n",
    "END = TODAY + datetime.timedelta(days=365)\n",
    "\n",
    "calendar = pd.DataFrame(index=pd.date_range(start=TODAY, end=END))\n",
    "\n",
    "#semi-monthly\n",
    "sm = pd.date_range(start=TODAY, end=END, freq='SM')\n",
    "\n",
    "#monthly\n",
    "ms = pd.date_range(start=TODAY, end=END, freq='MS')\n",
    "\n",
    "#build cash flows\n",
    "income = pd.DataFrame(\n",
    "    data={'income': 1000},\n",
    "    index=pd.date_range(start=TODAY, end=END, freq='SM')\n",
    ")\n",
    "\n",
    "rent = pd.DataFrame(\n",
    "    data={'rent': -1500},\n",
    "    index=pd.date_range(start=TODAY, end=END, freq='MS')\n",
    ")\n",
    "#add a starting balance\n",
    "bank = pd.DataFrame(\n",
    "    data={'bank': 2000},\n",
    "    index=pd.date_range(start=TODAY, end=TODAY)\n",
    ")\n",
    "\n",
    "#stich calendar together (only works with normalized time stamps)\n",
    "calendar = pd.concat([calendar, income], axis=1).fillna(0)\n",
    "calendar = pd.concat([calendar, rent], axis=1).fillna(0)\n",
    "calendar = pd.concat([calendar,bank], axis=1).fillna(0)\n",
    "\n",
    "#check specific parts of the calendar\n",
    "def index_calendar(start, end):\n",
    "    return calendar.loc[\n",
    "        (calendar.index >= start) &\n",
    "        (calendar.index <= end)\n",
    "]\n",
    "\n",
    "#print(index_calendar('2021-1-30', '2021-2-5'))\n",
    "\n",
    "#totals\n",
    "calendar['total'] = calendar.sum(axis=1)\n",
    "calendar['cum_total']=calendar['total'].cumsum()\n",
    "calendar.head(10)\n"
   ],
   "metadata": {
    "collapsed": false,
    "pycharm": {
     "name": "#%%\n"
    }
   }
  },
  {
   "cell_type": "code",
   "execution_count": null,
   "outputs": [],
   "source": [
    "from matplotlib import pyplot as plt\n",
    "\n",
    "%matplotlib inline\n",
    "plt.figure(figsize=(10,5))\n",
    "plt.plot(calendar.index, calendar.total, label='Daily Total')\n",
    "plt.plot(calendar.index, calendar.cum_total, label='Cumulative Total')\n",
    "plt.legend()"
   ],
   "metadata": {
    "collapsed": false,
    "pycharm": {
     "name": "#%%\n"
    }
   }
  },
  {
   "cell_type": "code",
   "execution_count": null,
   "outputs": [],
   "source": [
    "def update_totals(df):\n",
    "    if df.columns.isin(['totals', 'cum_total']).any():\n",
    "        df['total']=0\n",
    "        df['cum_total']=0\n",
    "    df['total']=df.sum(axis=1)\n",
    "    df['cum_total'] = df['total'].cumsum()\n",
    "    return df\n",
    "\n",
    "calendar = update_totals(calendar)\n",
    "calendar.tail(1)"
   ],
   "metadata": {
    "collapsed": false,
    "pycharm": {
     "name": "#%%\n"
    }
   }
  },
  {
   "cell_type": "code",
   "execution_count": null,
   "outputs": [],
   "source": [
    "def plot_budget(df):\n",
    "    plt.figure(figsize=(10,5))\n",
    "    plt.plot(calendar.index, calendar.total, label='Daily Total')\n",
    "    plt.plot(calendar.index, calendar.cum_total, label='Cumulative Total')\n",
    "    plt.legend()\n",
    "\n",
    "plot_budget(calendar)\n"
   ],
   "metadata": {
    "collapsed": false,
    "pycharm": {
     "name": "#%%\n"
    }
   }
  },
  {
   "cell_type": "code",
   "execution_count": null,
   "outputs": [],
   "source": [
    "vacation = pd.DataFrame(\n",
    "    data={'vacation': -2500},\n",
    "    index=[pd.Timestamp('2021-07-01').normalize()]\n",
    ")\n",
    "\n",
    "calendar = pd.concat([calendar,vacation], axis=1).fillna(0)\n",
    "calendar = update_totals(calendar)\n",
    "plot_budget(calendar)\n",
    "\n",
    "calendar = calendar.drop('vacation', axis=1)"
   ],
   "metadata": {
    "collapsed": false,
    "pycharm": {
     "name": "#%%\n"
    }
   }
  },
  {
   "cell_type": "code",
   "execution_count": null,
   "outputs": [],
   "source": [
    "import yaml\n",
    "\n",
    "budget = yaml.load('''\n",
    "bank:\n",
    "    frequency: today\n",
    "    amount: 2000\n",
    "income:\n",
    "    frequency: every 2 weeks on Friday\n",
    "    amount: 1000\n",
    "rent:\n",
    "    frequency: every month\n",
    "    amount: -1500\n",
    "fun:\n",
    "    frequency: every week on Friday and Saturday\n",
    "    amount: -40\n",
    "''')\n",
    "\n",
    "budget\n",
    "\n",
    "calendar = pd.DataFrame(index=pd.date_range(start=TODAY, end=END))\n",
    "\n",
    "for k,v in budget.items():\n",
    "    frequency=v.get('frequency')\n",
    "    amount = v.get('amount')\n",
    "    dates = get_dates(frequency)\n",
    "    i = pd.DataFrame(\n",
    "        data ={k:amount},\n",
    "        index=pd.DatetimeIndex(pd.Series(dates))\n",
    "    )\n",
    "    calendar = pd.concat([calendar, i], axis=1).fillna(0)\n",
    "\n",
    "calendar['total']=calendar.sum(axis=1)\n",
    "calendar['cum_total']=calendar['total'].cumsum()\n",
    "plot_budget(calendar)"
   ],
   "metadata": {
    "collapsed": false,
    "pycharm": {
     "name": "#%%\n"
    }
   }
  },
  {
   "cell_type": "code",
   "execution_count": null,
   "outputs": [],
   "source": [
    "targets = {\n",
    "    'AMZN': 0.4,\n",
    "    'CSCO': 0.3,\n",
    "    'GE': 0.3\n",
    "}\n",
    "\n",
    "import pandas as pd\n",
    "import numpy as np\n",
    "\n",
    "portfolio = pd.DataFrame(\n",
    "    index=list(targets.keys())+ ['CASH'],\n",
    "    data={\n",
    "        'date': '2018-01-01',\n",
    "        'price': [np.NaN, np.NaN, np.NaN, 1],\n",
    "        'target': [0.4,0.3,0.3,0],\n",
    "        'allocation':[0,0,0,1],\n",
    "        'shares': [0,0,0,10000],\n",
    "        'market_value':[0,0,0,10000]\n",
    "    }\n",
    ")\n",
    "portfolio"
   ],
   "metadata": {
    "collapsed": false,
    "pycharm": {
     "name": "#%%\n"
    }
   }
  },
  {
   "cell_type": "code",
   "execution_count": null,
   "outputs": [],
   "source": [
    "def instantiate_portfolio(targets, starting_balance):\n",
    "    targets['CASH'] = 0\n",
    "    tickers = list(targets.keys())\n",
    "    \n",
    "    df = pd.DataFrame(\n",
    "        index=tickers,\n",
    "        columns=[\n",
    "            'date', 'price', 'target','allocation','shares', 'market_value'\n",
    "        ]\n",
    "    )\n",
    "    df.shares = 0\n",
    "    df.market_value = 0\n",
    "    df.allocation = 0\n",
    "    df.update(\n",
    "        pd.DataFrame\n",
    "            .from_dict(targets, orient='index')\n",
    "            .rename(columns={0:'target'})\n",
    "    )\n",
    "    df.at['CASH', 'shares'] = starting_balance\n",
    "    \n",
    "    return df"
   ],
   "metadata": {
    "collapsed": false,
    "pycharm": {
     "name": "#%%\n"
    }
   }
  },
  {
   "cell_type": "code",
   "execution_count": null,
   "outputs": [],
   "source": [
    "portfolio = instantiate_portfolio({\n",
    "    'AMZN': 0.4, 'CSCO': 0.3, 'GE': 0.3},\n",
    "    10000\n",
    ")\n",
    "\n",
    "portfolio"
   ],
   "metadata": {
    "collapsed": false,
    "pycharm": {
     "name": "#%%\n"
    }
   }
  },
  {
   "cell_type": "code",
   "execution_count": null,
   "outputs": [],
   "source": [
    "def update_prices(portfolio, prices):\n",
    "    prices['CASH'] = 1\n",
    "    portfolio.update(pd.DataFrame({'price':prices}))\n",
    "    portfolio.date = prices.name\n",
    "    portfolio.market_value = portfolio.shares * portfolio.price\n",
    "    \n",
    "prices = pd.Series(\n",
    "        name = '2020-01-01',\n",
    "        data = {'AMZN':945.21, 'CSCO':30.52, 'GE': 29.27}\n",
    ")\n",
    "\n",
    "update_prices(portfolio, prices)\n",
    "print(portfolio)"
   ],
   "metadata": {
    "collapsed": false,
    "pycharm": {
     "name": "#%%\n"
    }
   }
  },
  {
   "cell_type": "code",
   "execution_count": null,
   "outputs": [],
   "source": [
    "def get_order(portfolio):\n",
    "    total_value = portfolio.market_value.sum()\n",
    "    \n",
    "    order = (\n",
    "        (total_value * portfolio.target // portfolio.price) - portfolio.shares).drop('CASH')\n",
    "    return order"
   ],
   "metadata": {
    "collapsed": false,
    "pycharm": {
     "name": "#%%\n"
    }
   }
  },
  {
   "cell_type": "code",
   "execution_count": null,
   "outputs": [],
   "source": [
    "order = get_order(portfolio)\n",
    "order"
   ],
   "metadata": {
    "collapsed": false,
    "pycharm": {
     "name": "#%%\n"
    }
   }
  },
  {
   "cell_type": "code",
   "execution_count": null,
   "outputs": [],
   "source": [
    "def deposit(portfolio, amount):\n",
    "    portfolio.at['CASH', 'shares'] += amount\n",
    "    portfolio.at['CASH', 'market_value'] = portfolio.at['CASH', 'shares']\n",
    "\n",
    "deposit(portfolio, 1000)"
   ],
   "metadata": {
    "collapsed": false,
    "pycharm": {
     "name": "#%%\n"
    }
   }
  },
  {
   "cell_type": "code",
   "execution_count": null,
   "outputs": [],
   "source": [
    "def simulate_process_order(portfolio, order):\n",
    "    starting_cash = portfolio.at['CASH', 'shares']\n",
    "    cash_adjustment = np.sum(order*portfolio.price)\n",
    "    portfolio.shares += order\n",
    "    portfolio.market_value = portfolio.shares * portfolio.price\n",
    "    portfolio.at['CASH', 'shares'] = starting_cash - cash_adjustment\n",
    "    portfolio.market_value = portfolio.shares * portfolio.price\n",
    "    portfolio.allocation = (\n",
    "        portfolio.market_value / portfolio.market_value.sum()\n",
    "    )\n",
    "\n",
    "simulate_process_order(portfolio, order)\n",
    "portfolio"
   ],
   "metadata": {
    "collapsed": false,
    "pycharm": {
     "name": "#%%\n"
    }
   }
  },
  {
   "cell_type": "code",
   "execution_count": null,
   "outputs": [],
   "source": [
    "import requests\n",
    "import os\n",
    "from dotenv import load_dotenv, find_dotenv\n",
    "load_dotenv(find_dotenv())\n",
    "\n",
    "API_KEY = os.environ.get('AV_KEY')\n",
    "TODAY = pd.Timestamp.today().normalize()"
   ],
   "metadata": {
    "collapsed": false,
    "pycharm": {
     "name": "#%%\n"
    }
   }
  },
  {
   "cell_type": "code",
   "execution_count": null,
   "outputs": [],
   "source": [
    "API_KEY"
   ],
   "metadata": {
    "collapsed": false,
    "pycharm": {
     "name": "#%%\n"
    }
   }
  },
  {
   "cell_type": "code",
   "execution_count": null,
   "outputs": [],
   "source": [
    "def get_price(ticker, outputsize = 'compact', most_recent=False):\n",
    "    URL = 'https://www.alphavantage.co/query?'\n",
    "    payload = {\n",
    "        'function':'TIME_SERIES_DAILY_ADJUSTED',\n",
    "        'symbol': ticker,\n",
    "        'apikey': API_KEY,\n",
    "        'outputsize':outputsize\n",
    "    }\n",
    "    r = requests.get(URL, params=payload)\n",
    "    p = pd.DataFrame(r.json()['Time Series (Daily)']).T['4. close']\n",
    "    #q = pd.DataFrame(r.json()['Time Series (Daily)'])\n",
    "    #print(q)\n",
    "    df = pd.DataFrame({ticker: p.apply(float)})\n",
    "    df.index = pd.to_datetime(df.index)\n",
    "    if most_recent:\n",
    "        return df.tail(1)\n",
    "    return df\n",
    "\n",
    "print(get_price('AMZN')[:10])"
   ],
   "metadata": {
    "collapsed": false,
    "pycharm": {
     "name": "#%%\n"
    }
   }
  },
  {
   "cell_type": "code",
   "execution_count": null,
   "outputs": [],
   "source": [
    "def get_historical(tickers, start_date, end_date):\n",
    "    df = pd.DataFrame(index=pd.date_range(start_date, end_date, freq='D'))\n",
    "    for t in tickers:\n",
    "        df = pd.concat([\n",
    "            df,\n",
    "            get_price(t, outputsize='full')],\n",
    "            axis=1,\n",
    "        )\n",
    "        df = df.reindex(df.index)\n",
    "    df = df.fillna(method='ffill').dropna()\n",
    "\n",
    "    return df\n",
    "    "
   ],
   "metadata": {
    "collapsed": false,
    "pycharm": {
     "name": "#%%\n"
    }
   }
  },
  {
   "cell_type": "code",
   "execution_count": null,
   "outputs": [],
   "source": [
    "historical_prices = get_historical(\n",
    "    tickers = ['AMZN', 'CSCO', 'GE'],\n",
    "    start_date = pd.Timestamp(2016, 1, 1),\n",
    "    end_date = TODAY\n",
    ")\n",
    "print(historical_prices.tail())"
   ],
   "metadata": {
    "collapsed": false,
    "pycharm": {
     "name": "#%%\n"
    }
   }
  },
  {
   "cell_type": "code",
   "execution_count": null,
   "outputs": [],
   "source": [
    "prices = historical_prices.loc['2016-01-04']\n",
    "prices"
   ],
   "metadata": {
    "collapsed": false,
    "pycharm": {
     "name": "#%%\n"
    }
   }
  },
  {
   "cell_type": "code",
   "execution_count": null,
   "outputs": [],
   "source": [
    "portfolio = instantiate_portfolio(targets, 10000.00)\n",
    "prices = historical_prices.loc['2016-01-04']\n",
    "update_prices(portfolio, prices)\n",
    "order = get_order(portfolio)\n",
    "simulate_process_order(portfolio, order)\n",
    "portfolio.market_value.sum()\n",
    "\n",
    "print(portfolio)"
   ],
   "metadata": {
    "collapsed": false,
    "pycharm": {
     "name": "#%%\n"
    }
   }
  },
  {
   "cell_type": "code",
   "execution_count": null,
   "outputs": [],
   "source": [
    "dates = pd.date_range('2017-01-01', '2017-12-31', freq='Q').tolist()\n",
    "for d in dates:\n",
    "    prices = historical_prices.loc[d]\n",
    "    update_prices(portfolio, prices)\n",
    "    order = get_order(portfolio)\n",
    "    print(f'{d}:\\n{order}')\n",
    "    simulate_process_order(portfolio, order)\n",
    "\n",
    "portfolio.market_value.sum()"
   ],
   "metadata": {
    "collapsed": false,
    "pycharm": {
     "name": "#%%\n"
    }
   }
  },
  {
   "cell_type": "code",
   "execution_count": null,
   "outputs": [],
   "source": [],
   "metadata": {
    "collapsed": false,
    "pycharm": {
     "name": "#%%\n"
    }
   }
  }
 ],
 "metadata": {
  "kernel_info": {
   "name": "python3"
  },
  "language_info": {
   "name": "python",
   "version": "3.8.5",
   "mimetype": "text/x-python",
   "codemirror_mode": {
    "name": "ipython",
    "version": 3
   },
   "pygments_lexer": "ipython3",
   "nbconvert_exporter": "python",
   "file_extension": ".py"
  },
  "kernelspec": {
   "argv": [
    "/Library/Frameworks/Python.framework/Versions/3.8/bin/python3",
    "-m",
    "ipykernel_launcher",
    "-f",
    "{connection_file}"
   ],
   "display_name": "Python 3",
   "language": "python",
   "name": "python3"
  },
  "nteract": {
   "version": "0.27.0"
  }
 },
 "nbformat": 4,
 "nbformat_minor": 0
}